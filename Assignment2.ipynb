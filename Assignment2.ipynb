{
 "cells": [
  {
   "cell_type": "markdown",
   "metadata": {},
   "source": [
    "# Assignment 2\n",
    "(Assignment groups 2 and 10)\n",
    "- Jasper Bosschart\t\t\t\t\t\t\t\t\ts2562685\n",
    "- Marina Stefanova\t\t\t\t\t\t\t\t\ts2610604\n",
    "- Nagham Mekky\t\t\t\t\t\t\t\t\t\ts3096564\n",
    "- Sven Sonneveld\t\t\t\t\t\t\t\t\ts2594854 \n",
    "- Hynek Noll\t\t\t\t\t\t\t\t\t\ts3102181"
   ]
  },
  {
   "cell_type": "code",
   "execution_count": 7,
   "metadata": {},
   "outputs": [],
   "source": [
    "from IPython.display import Image"
   ]
  },
  {
   "cell_type": "markdown",
   "metadata": {},
   "source": [
    "# Motivation and Goals"
   ]
  },
  {
   "cell_type": "markdown",
   "metadata": {},
   "source": [
    "This document is related to the introduction to digital forensics class of the minor Cybersecurity and Cybercrime and contains the second assignment of the course. The goal of the assignment is to analyze an existing DDoS attack which was previously collected by the lecturer of this course, Jair Santanna. "
   ]
  },
  {
   "cell_type": "markdown",
   "metadata": {},
   "source": [
    "# Methodology and Results"
   ]
  },
  {
   "cell_type": "markdown",
   "metadata": {},
   "source": [
    "## Methodology\n",
    "In order to analyze this attack, the tool Wireshark was used. “Wireshark is the world’s foremost and widely-used network protocol analyzer”[1]. For this assignment, we combined two assignment groups into one, group 10 and group 2. We decided to join forces to relieve both our workloads and also to merge our knowledge and to be able to debate answers from multiple angles.  The assignment consisted of a Wireshark file that contained an attack trace that we could take a look at. The assignment itself consists of 16 questions about this attack. After reading through the questions, we noticed that most questions intertwine with each other, making it slightly more complicated to split the questions evenly between all assignment members. Therefore, we decided to answer the questions together. We noticed that for some questions a simple look at the results from the recorded attack was enough, however, for other questions, it was required to create custom filters based on what the question asks, in order to find the answers. The way to create filters for the information needed is by using, for example, the comments “&&” for “and” and “!=” for “not”. An example of a filter we used is “ IP.dst == 172.31.28.132 && DNS && IP.src !=172.31.28.132”, which was used to answer questions 5 onwards.  Another interesting feature that we used to answer question 14 was using an “I/O graph” to visualize the overall traffic in the capture in Mbits/second. The way to create an I/O graph is by going to “Settings -> I/O Graphs”. The answers to all the questions can be found in the “ Results” section of this document, followed by a general Conclusion, which concludes our findings and what we have learned from analyzing this attack. "
   ]
  },
  {
   "cell_type": "markdown",
   "metadata": {},
   "source": [
    "- What are the characteristics of the attack (aka fingerprint)? Remember: the fingerprint are the characteristics that most repeats targeting a single destination IP. Traffic FROM the victim to the IP addresses in the network trace are NOT part of the attack. Tip: isolate 1 source and 1 destination IP and see if the same pattern applies to the other source IP addresses.\n",
    "- How a Wireshark filter of the attack looks like?\n",
    "*ATTENTION: from here, all the following questions are related to the attack traffic.\n",
    "- Which is the target (destination) IP of the attack?\n",
    "- How many records are part of the attack?\n",
    "- How many unique (source) IP addresses performed the attack?\n",
    "- Which top 3 source IP addresses sent more packets in the attack?\n",
    "- Where are these top 3 source IP geolocated?\n",
    "- Which Autonomous Systems are related to these top 3 source IP addresses?\n",
    "- What is the distribution of vendors related to the source IP addresses involved in the attack? Tip: use MAC address to Vendor. Ask Google.\n",
    "- What is/are the source port(s) involved in the attack?\n",
    "- How much was the data rate peak of the attack [Mbits/second]?\n",
    "- What is the distribution/frequency of TCP flags involved in the attack?\n",
    "- What is the distribution/frequency of packet length (\"total length\")?"
   ]
  },
  {
   "cell_type": "markdown",
   "metadata": {},
   "source": [
    "## Results\n",
    "1. There are 122233 records in the entire trace.\n",
    "2. The entire trace took 25.343013 seconds\n",
    "3. Three examples below:\n",
    "a) TCP (Reset) packet"
   ]
  },
  {
   "cell_type": "code",
   "execution_count": 8,
   "metadata": {},
   "outputs": [
    {
     "data": {
      "image/png": "[encoded data removed]",
      "text/plain": [
       "<IPython.core.display.Image object>"
      ]
     },
     "execution_count": 8,
     "metadata": {},
     "output_type": "execute_result"
    }
   ],
   "source": [
    "Image(filename='TCP.png')"
   ]
  },
  {
   "cell_type": "markdown",
   "metadata": {},
   "source": [
    "The source IP address that sent this packet has not sent any other packets within the trace, which means that it was probably not a part of the attack, other than the fact that all the packets that were a part of the attack were DNS packets. "
   ]
  },
  {
   "cell_type": "markdown",
   "metadata": {},
   "source": [
    "b) Packet from victim"
   ]
  },
  {
   "cell_type": "code",
   "execution_count": 9,
   "metadata": {},
   "outputs": [
    {
     "data": {
      "image/png": "[encoded data removed]",
      "text/plain": [
       "<IPython.core.display.Image object>"
      ]
     },
     "execution_count": 9,
     "metadata": {},
     "output_type": "execute_result"
    }
   ],
   "source": [
    "Image(filename='ICMPVictim.png')"
   ]
  },
  {
   "cell_type": "markdown",
   "metadata": {},
   "source": [
    "The image above shows a packet that was sent by the victim, which is not a part of the attack as the victim is not attacking themselves."
   ]
  },
  {
   "cell_type": "markdown",
   "metadata": {},
   "source": [
    "c) DNS Query"
   ]
  },
  {
   "cell_type": "code",
   "execution_count": 10,
   "metadata": {},
   "outputs": [
    {
     "data": {
      "image/png": "[encoded data removed]",
      "text/plain": [
       "<IPython.core.display.Image object>"
      ]
     },
     "execution_count": 10,
     "metadata": {},
     "output_type": "execute_result"
    }
   ],
   "source": [
    "Image(filename='DNSFromVictim.png')"
   ]
  },
  {
   "cell_type": "markdown",
   "metadata": {},
   "source": [
    "This packet was sent as a response from the victim to a DNS query. All communication with the address 172.31.0.2 is initiated by the victim and its frequency is low (200 packets over 24 seconds). We can also see that the packet’s length is reasonable."
   ]
  },
  {
   "cell_type": "markdown",
   "metadata": {},
   "source": [
    "4. \n",
    "5. \n",
    "6. 172.31.28.132\n",
    "7. \n",
    "8. \n",
    "9. 37.123.96.179, 61.93.9.158, 121.32.89.198\n",
    "10. Turkey, Hong Kong, China\n",
    "11. SPD-NET, HKBN-AS-AP Hong Kong Broadband Network Ltd., CHINANET-BACKBONE No.31\n",
    "12. \n",
    "13. Source port is 53\n",
    "14. When plotting the data rate per second of the attack this a figure can be made. From this the CSV file can be gotten, which displays the values for bits/second. In this CSV file the highest value is at 23 seconds with a value of 112.457. This means the data rate peak of the attack is 112.457 Mbits/second.\n",
    "15. \n",
    "16. "
   ]
  },
  {
   "cell_type": "markdown",
   "metadata": {},
   "source": [
    "# Conclusion and Reflections"
   ]
  }
 ],
 "metadata": {
  "kernelspec": {
   "display_name": "Python 3.10.7 64-bit (microsoft store)",
   "language": "python",
   "name": "python3"
  },
  "language_info": {
   "codemirror_mode": {
    "name": "ipython",
    "version": 3
   },
   "file_extension": ".py",
   "mimetype": "text/x-python",
   "name": "python",
   "nbconvert_exporter": "python",
   "pygments_lexer": "ipython3",
   "version": "3.10.7"
  },
  "orig_nbformat": 4,
  "vscode": {
   "interpreter": {
    "hash": "a9309487acccd0856f8a519019e0531deb688e0d3fd9b2a8278d8251db943493"
   }
  }
 },
 "nbformat": 4,
 "nbformat_minor": 2
}
