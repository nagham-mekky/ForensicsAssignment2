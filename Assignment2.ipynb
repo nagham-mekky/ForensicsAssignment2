{
 "cells": [
  {
   "cell_type": "markdown",
   "metadata": {},
   "source": [
    "# Motivation and Goals"
   ]
  },
  {
   "cell_type": "markdown",
   "metadata": {},
   "source": [
    "# Methodology and Results"
   ]
  },
  {
   "cell_type": "markdown",
   "metadata": {},
   "source": [
    "- How many records are in the entire trace?\n",
    "- What is the duration of the entire trace ?\n",
    "- Add print-screens of 3 examples of packets that are NOT part of the attack. Explain what are those packets.\n",
    "- What are the characteristics of the attack (aka fingerprint)? Remember: the fingerprint are the characteristics that most repeats targeting a single destination IP. Traffic FROM the victim to the IP addresses in the network trace are NOT part of the attack. Tip: isolate 1 source and 1 destination IP and see if the same pattern applies to the other source IP addresses.\n",
    "- How a Wireshark filter of the attack looks like?\n",
    "*ATTENTION: from here, all the following questions are related to the attack traffic.\n",
    " Which is the target (destination) IP of the attack?\n",
    "- How many records are part of the attack?\n",
    "- How many unique (source) IP addresses performed the attack?\n",
    "- Which top 3 source IP addresses sent more packets in the attack?\n",
    "- Where are these top 3 source IP geolocated?\n",
    "- Which Autonomous Systems are related to these top 3 source IP addresses?\n",
    "- What is the distribution of vendors related to the source IP addresses involved in the attack? Tip: use MAC address to Vendor. Ask Google.\n",
    "- What is/are the source port(s) involved in the attack?\n",
    "- How much was the data rate peak of the attack [Mbits/second]?\n",
    "- What is the distribution/frequency of TCP flags involved in the attack?\n",
    "- What is the distribution/frequency of packet length (\"total length\")?"
   ]
  },
  {
   "cell_type": "markdown",
   "metadata": {},
   "source": [
    "# Conclusion and Reflections"
   ]
  }
 ],
 "metadata": {
  "kernelspec": {
   "display_name": "Python 3.10.7 64-bit (microsoft store)",
   "language": "python",
   "name": "python3"
  },
  "language_info": {
   "codemirror_mode": {
    "name": "ipython",
    "version": 3
   },
   "file_extension": ".py",
   "mimetype": "text/x-python",
   "name": "python",
   "nbconvert_exporter": "python",
   "pygments_lexer": "ipython3",
   "version": "3.10.7"
  },
  "orig_nbformat": 4,
  "vscode": {
   "interpreter": {
    "hash": "a9309487acccd0856f8a519019e0531deb688e0d3fd9b2a8278d8251db943493"
   }
  }
 },
 "nbformat": 4,
 "nbformat_minor": 2
}
